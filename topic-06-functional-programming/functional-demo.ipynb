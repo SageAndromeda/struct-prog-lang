{
 "cells": [
  {
   "cell_type": "code",
   "execution_count": 1,
   "metadata": {},
   "outputs": [],
   "source": [
    "def head(t):\n",
    "    if len(t) > 0:\n",
    "        return t[0]\n",
    "    else:\n",
    "        return None\n",
    "\n",
    "\n",
    "def test_head():\n",
    "    assert head([1, 2, 3]) == 1\n",
    "    assert head([]) == None\n",
    "\n",
    "\n",
    "test_head()"
   ]
  },
  {
   "cell_type": "code",
   "execution_count": 2,
   "metadata": {},
   "outputs": [],
   "source": [
    "def tail(t):\n",
    "    if t == []:\n",
    "        return []\n",
    "    else:\n",
    "        return t[1:]\n",
    "\n",
    "\n",
    "def test_tail():\n",
    "    assert tail([1, 2, 3]) == [2, 3]\n",
    "    assert tail([]) == []\n",
    "\n",
    "\n",
    "test_tail()"
   ]
  },
  {
   "cell_type": "code",
   "execution_count": 3,
   "metadata": {},
   "outputs": [],
   "source": [
    "def count(t):\n",
    "    if t == []:\n",
    "        return 0\n",
    "    return 1 + count(tail(t))\n",
    "\n",
    "\n",
    "def test_count():\n",
    "    assert count([1, 2, 3]) == 3\n",
    "    assert count([]) == 0\n",
    "\n",
    "\n",
    "test_count()"
   ]
  },
  {
   "cell_type": "code",
   "execution_count": 4,
   "metadata": {},
   "outputs": [],
   "source": [
    "def sum(t):\n",
    "    if t == []:\n",
    "        return 0\n",
    "    return head(t) + sum(tail(t))\n",
    "\n",
    "\n",
    "def test_sum():\n",
    "    assert sum([1, 2, 3]) == 6\n",
    "    assert sum([]) == 0\n",
    "\n",
    "\n",
    "test_sum()"
   ]
  },
  {
   "cell_type": "code",
   "execution_count": 5,
   "metadata": {},
   "outputs": [],
   "source": [
    "def upper(t, n):\n",
    "    if t == []:\n",
    "        return []\n",
    "    if head(t) > n:\n",
    "        return [head(t)] + upper(tail(t), n)\n",
    "    return upper(tail(t), n)\n",
    "\n",
    "\n",
    "def test_upper():\n",
    "    assert upper([1, 2, 3, 4], 2) == [3, 4]\n",
    "    assert upper([1, 2, 3, 4], 5) == []\n",
    "    assert upper([], 2) == []\n",
    "\n",
    "\n",
    "test_upper()"
   ]
  },
  {
   "cell_type": "code",
   "execution_count": 6,
   "metadata": {},
   "outputs": [],
   "source": [
    "def lower(t, n):\n",
    "    if t == []:\n",
    "        return []\n",
    "    if head(t) < n:\n",
    "        return [head(t)] + lower(tail(t), n)\n",
    "    return lower(tail(t), n)\n",
    "\n",
    "\n",
    "def test_lower():\n",
    "    assert lower([1, 2, 3, 4], 3) == [1, 2]\n",
    "    assert lower([1, 2, 3, 4], 0) == []\n",
    "    assert lower([], 2) == []\n",
    "\n",
    "\n",
    "test_lower()"
   ]
  },
  {
   "cell_type": "code",
   "execution_count": 7,
   "metadata": {},
   "outputs": [],
   "source": [
    "\n",
    "\n",
    "def equal(t, n):\n",
    "    if t == []:\n",
    "        return []\n",
    "    if head(t) == n:\n",
    "        return [head(t)] + equal(tail(t), n)\n",
    "    return equal(tail(t), n)\n",
    "\n",
    "\n",
    "def test_equal():\n",
    "    assert equal([1, 2, 2, 4], 2) == [2, 2]\n",
    "    assert equal([1, 2, 4, 5], 3) == []\n",
    "    assert equal([], 2) == []\n",
    "\n",
    "\n",
    "test_equal()"
   ]
  },
  {
   "cell_type": "code",
   "execution_count": 8,
   "metadata": {},
   "outputs": [],
   "source": [
    "def sort(t):\n",
    "    if t == []:\n",
    "        return []\n",
    "    n = head(t)\n",
    "    return sort(lower(tail(t), n)) + equal(t, n) + sort(upper(tail(t), n))\n",
    "\n",
    "\n",
    "def test_sort():\n",
    "    assert sort([1]) == [1]\n",
    "    assert sort([1, 3, 2, 4, 9, 3, 8, 7, 5, 6, 0]) == [0, 1, 2, 3, 3, 4, 5, 6, 7, 8, 9]\n",
    "    assert sort([]) == []\n",
    "     "
   ]
  },
  {
   "cell_type": "code",
   "execution_count": 9,
   "metadata": {},
   "outputs": [],
   "source": [
    "def copy(t):\n",
    "    if t == []:\n",
    "        return []\n",
    "    return [head(t)]+copy(tail(t))\n",
    "\n",
    "def test_copy():\n",
    "    t = [1,2,3]\n",
    "    s = copy(t)\n",
    "    s[1] = 4;\n",
    "    assert t == [1,2,3]\n",
    "    assert s == [1,4,3]\n",
    "\n",
    "test_copy()"
   ]
  },
  {
   "cell_type": "code",
   "execution_count": 10,
   "metadata": {},
   "outputs": [],
   "source": [
    "def reverse(t):\n",
    "    if t == []:\n",
    "        return []\n",
    "    return reverse(tail(t)) + [head(t)]\n",
    "\n",
    "def test_reverse():\n",
    "    assert reverse([]) == []\n",
    "    assert reverse([1,2,3]) == [3,2,1]\n",
    "\n",
    "test_reverse()"
   ]
  },
  {
   "cell_type": "code",
   "execution_count": 11,
   "metadata": {},
   "outputs": [],
   "source": [
    "def mirror(t):\n",
    "    if t == []:\n",
    "        return []\n",
    "    if type(head(t)) is list:\n",
    "        return mirror(tail(t)) + [mirror(head(t))]\n",
    "    else:\n",
    "        return mirror(tail(t)) + [head(t)]\n",
    "\n",
    "\n",
    "def test_mirror():\n",
    "    assert mirror([]) == []\n",
    "    assert mirror([1,2,3]) == [3,2,1]\n",
    "    assert mirror([1,2,[3,[4,5]]]) == [[[5,4],3],2,1]\n",
    "    assert mirror([[[0,1],2,],3,4,5]) == [5,4,3,[2,[1,0]]]\n",
    "\n",
    "\n",
    "test_mirror()"
   ]
  },
  {
   "cell_type": "code",
   "execution_count": 12,
   "metadata": {},
   "outputs": [
    {
     "ename": "AssertionError",
     "evalue": "",
     "output_type": "error",
     "traceback": [
      "\u001b[0;31m---------------------------------------------------------------------------\u001b[0m",
      "\u001b[0;31mAssertionError\u001b[0m                            Traceback (most recent call last)",
      "Cell \u001b[0;32mIn[12], line 20\u001b[0m\n\u001b[1;32m     17\u001b[0m     \u001b[38;5;28;01massert\u001b[39;00m \u001b[38;5;241m2.99\u001b[39m \u001b[38;5;241m<\u001b[39m\u001b[38;5;241m=\u001b[39m square_root(\u001b[38;5;241m9\u001b[39m,\u001b[38;5;241m0.01\u001b[39m,\u001b[38;5;241m3\u001b[39m) \u001b[38;5;241m<\u001b[39m\u001b[38;5;241m=\u001b[39m \u001b[38;5;241m3.01\u001b[39m\n\u001b[1;32m     18\u001b[0m     \u001b[38;5;28;01massert\u001b[39;00m square_root(\u001b[38;5;241m100\u001b[39m,\u001b[38;5;241m0.01\u001b[39m,\u001b[38;5;241m500\u001b[39m) \u001b[38;5;241m==\u001b[39m \u001b[38;5;241m10\u001b[39m\n\u001b[0;32m---> 20\u001b[0m \u001b[43mtest_square_root\u001b[49m\u001b[43m(\u001b[49m\u001b[43m)\u001b[49m\n",
      "Cell \u001b[0;32mIn[12], line 16\u001b[0m, in \u001b[0;36mtest_square_root\u001b[0;34m()\u001b[0m\n\u001b[1;32m     14\u001b[0m \u001b[38;5;28;01mdef\u001b[39;00m \u001b[38;5;21mtest_square_root\u001b[39m():\n\u001b[1;32m     15\u001b[0m     \u001b[38;5;28;01massert\u001b[39;00m square_root(\u001b[38;5;241m9\u001b[39m,\u001b[38;5;241m0.01\u001b[39m,\u001b[38;5;241m3\u001b[39m) \u001b[38;5;241m==\u001b[39m \u001b[38;5;241m3.0\u001b[39m\n\u001b[0;32m---> 16\u001b[0m     \u001b[38;5;28;01massert\u001b[39;00m square_root(\u001b[38;5;241m9.0\u001b[39m,\u001b[38;5;241m0.01\u001b[39m,\u001b[38;5;241m3.001\u001b[39m) \u001b[38;5;241m==\u001b[39m \u001b[38;5;241m3.0001\u001b[39m\n\u001b[1;32m     17\u001b[0m     \u001b[38;5;28;01massert\u001b[39;00m \u001b[38;5;241m2.99\u001b[39m \u001b[38;5;241m<\u001b[39m\u001b[38;5;241m=\u001b[39m square_root(\u001b[38;5;241m9\u001b[39m,\u001b[38;5;241m0.01\u001b[39m,\u001b[38;5;241m3\u001b[39m) \u001b[38;5;241m<\u001b[39m\u001b[38;5;241m=\u001b[39m \u001b[38;5;241m3.01\u001b[39m\n\u001b[1;32m     18\u001b[0m     \u001b[38;5;28;01massert\u001b[39;00m square_root(\u001b[38;5;241m100\u001b[39m,\u001b[38;5;241m0.01\u001b[39m,\u001b[38;5;241m500\u001b[39m) \u001b[38;5;241m==\u001b[39m \u001b[38;5;241m10\u001b[39m\n",
      "\u001b[0;31mAssertionError\u001b[0m: "
     ]
    }
   ],
   "source": [
    "def square_root(n,accuracy,guess):\n",
    "    assert n > 1.0\n",
    "    guess2 = guess*guess\n",
    "    if abs(guess2 - n) < n * accuracy:\n",
    "        return guess\n",
    "    if guess2 > n:\n",
    "        guess = (guess +1)/2\n",
    "        return square_root(n,accuracy,guess)\n",
    "    else:\n",
    "        guess = (guess+n)/2.0\n",
    "        return square_root(n,accuracy,guess)\n",
    "\n",
    "\n",
    "def test_square_root():\n",
    "    assert square_root(9,0.01,3) == 3.0\n",
    "    assert square_root(9.0,0.01,3.001) == 3.0001\n",
    "    assert 2.99 <= square_root(9,0.01,3) <= 3.01\n",
    "    assert square_root(100,0.01,500) == 10\n",
    "\n",
    "test_square_root()"
   ]
  }
 ],
 "metadata": {
  "kernelspec": {
   "display_name": ".venv",
   "language": "python",
   "name": "python3"
  },
  "language_info": {
   "codemirror_mode": {
    "name": "ipython",
    "version": 3
   },
   "file_extension": ".py",
   "mimetype": "text/x-python",
   "name": "python",
   "nbconvert_exporter": "python",
   "pygments_lexer": "ipython3",
   "version": "3.12.1"
  }
 },
 "nbformat": 4,
 "nbformat_minor": 2
}
